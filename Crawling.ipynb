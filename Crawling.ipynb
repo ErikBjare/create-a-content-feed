{
 "cells": [
  {
   "cell_type": "markdown",
   "metadata": {},
   "source": [
    "# How to build your own content feed with Python\n",
    "\n",
    "By crawling Reddit and Hacker News, and then using machine learning with Algorithmia."
   ]
  },
  {
   "cell_type": "markdown",
   "metadata": {},
   "source": [
    "## Scraping the web\n",
    "\n",
    "#### Step 1: Install `scrapy`"
   ]
  },
  {
   "cell_type": "code",
   "execution_count": 196,
   "metadata": {
    "scrolled": true
   },
   "outputs": [
    {
     "name": "stdout",
     "output_type": "stream",
     "text": [
      "Name: Scrapy\r\n",
      "Version: 1.4.0\r\n",
      "Summary: A high-level Web Crawling and Web Scraping framework\r\n",
      "Home-page: http://scrapy.org\r\n",
      "Author: Pablo Hoffman\r\n",
      "Author-email: pablo@pablohoffman.com\r\n",
      "License: BSD\r\n",
      "Location: /home/erb/.local/lib/python3.6/site-packages\r\n",
      "Requires: Twisted, queuelib, lxml, parsel, w3lib, PyDispatcher, service-identity, cssselect, pyOpenSSL, six\r\n"
     ]
    }
   ],
   "source": [
    "# Install scrapy if not already installed\n",
    "# How to read this line: \n",
    "#   1. Show info about installed package scrapy.\n",
    "#   2. If it could not find the package: install it.\n",
    "!pip3 show scrapy || pip3 install --user scrapy"
   ]
  },
  {
   "cell_type": "code",
   "execution_count": 197,
   "metadata": {},
   "outputs": [
    {
     "name": "stdout",
     "output_type": "stream",
     "text": [
      "2017-09-17 21:57:52 [scrapy.utils.log] INFO: Scrapy 1.4.0 started (bot: scrapybot)\n",
      "2017-09-17 21:57:52 [scrapy.utils.log] INFO: Overridden settings: {'USER_AGENT': 'Mozilla/4.0 (compatible; MSIE 7.0; Windows NT 5.1)'}\n",
      "2017-09-17 21:57:52 [scrapy.extensions.logstats] INFO: Crawled 0 pages (at 0 pages/min), scraped 0 items (at 0 items/min)\n",
      "2017-09-17 21:57:52 [scrapy.extensions.logstats] INFO: Crawled 0 pages (at 0 pages/min), scraped 0 items (at 0 items/min)\n"
     ]
    }
   ],
   "source": [
    "# For some Very Good Reasons, we've made our crawler runnable as a script.\n",
    "!python3 run_crawler.py"
   ]
  },
  {
   "cell_type": "code",
   "execution_count": 198,
   "metadata": {},
   "outputs": [
    {
     "name": "stdout",
     "output_type": "stream",
     "text": [
      "Loaded 115 things\n"
     ]
    }
   ],
   "source": [
    "from basespiders import load_content\n",
    "\n",
    "all_content = load_content()\n",
    "print(\"Loaded {} things\".format(len(all_content)))"
   ]
  },
  {
   "cell_type": "code",
   "execution_count": 199,
   "metadata": {},
   "outputs": [
    {
     "name": "stdout",
     "output_type": "stream",
     "text": [
      "========\n",
      " Reddit \n",
      "--------\n",
      "[164] A font for coders: \"Input\". I have never seen clearer curly brackets! (http://input.fontbureau.com/info/)\n",
      "[153] Chrome to force .dev domains to HTTPS via preloaded HSTS (https://ma.ttias.be/chrome-force-dev-domains-https-via-preloaded-hsts/)\n",
      "[92] Electron: The Bad Parts (https://hackernoon.com/electron-the-bad-parts-2b710c491547)\n",
      "[54] Retro Arcade Racing Game - Programming from Scratch (Quick and Simple C++) (https://www.youtube.com/watch?v=KkMZI5Jbf18)\n",
      "[30] Fully commented machine learning code, made with love by yours truly. (Python 3) (https://repl.it/LMlH)\n",
      "=============\n",
      " Hacker News \n",
      "-------------\n",
      "[826] Firefox Multi-Account Containers (https://blog.mozilla.org/firefox/introducing-firefox-multi-account-containers/)\n",
      "[569] We've failed: open access is winning and we must change our approach (http://onlinelibrary.wiley.com/doi/10.1002/leap.1116/full)\n",
      "[569] We've failed: open access is winning and we must change our approach (http://onlinelibrary.wiley.com/doi/10.1002/leap.1116/full)\n",
      "[302] Eclipse OpenJ9 – Open-source JVM (https://github.com/eclipse/openj9)\n",
      "[294] Alan Kay is still waiting for his dream to come true (https://www.fastcompany.com/40435064/what-alan-kay-thinks-about-the-iphone-and-technology-now)\n"
     ]
    }
   ],
   "source": [
    "def score_key(t):\n",
    "    \"\"\"Useful when sorting content by score\"\"\"\n",
    "    return int(t.score) if t.score else 0\n",
    "\n",
    "def list_content(title, content, n=5):\n",
    "    print(\"=\" * (len(title) + 2))\n",
    "    print(\" \" + title + \" \")\n",
    "    print(\"-\" * (len(title) + 2))\n",
    "    for c in content[:n]:\n",
    "        print(c)\n",
    "        \n",
    "reddit_things = sorted([c for c in all_content if c.source == \"reddit\"], key=score_key, reverse=True)\n",
    "list_content(\"Reddit\", reddit_things)\n",
    "\n",
    "hn_things = sorted([c for c in all_content if c.source == \"hn\"], key=score_key, reverse=True)\n",
    "list_content(\"Hacker News\", hn_things)"
   ]
  },
  {
   "cell_type": "code",
   "execution_count": 200,
   "metadata": {},
   "outputs": [
    {
     "name": "stdout",
     "output_type": "stream",
     "text": [
      "<Content source='reddit' title='A font for coders: \"Input\". I have never...'>\n",
      "A font for coders: \"Input\". I have never seen clearer curly brackets!\n",
      "http://input.fontbureau.com/info/\n"
     ]
    }
   ],
   "source": [
    "import random\n",
    "from random import randint\n",
    "\n",
    "def weighted_random(pairs):\n",
    "    total = sum(pair[0] for pair in pairs)\n",
    "    r = randint(1, total)\n",
    "    for (weight, value) in pairs:\n",
    "        r -= weight\n",
    "        if r <= 0: return value\n",
    "        \n",
    "def pick_random_weighted(things, key=score_key):\n",
    "    return weighted_random([(score_key(thing), thing) for thing in things])\n",
    "\n",
    "c = pick_random_weighted(reddit_things)\n",
    "print(repr(c))\n",
    "print(c.title)\n",
    "print(c.url)"
   ]
  },
  {
   "cell_type": "code",
   "execution_count": 201,
   "metadata": {},
   "outputs": [],
   "source": [
    "def recommend(things):\n",
    "    good_stuff = []\n",
    "    for source in [\"reddit\", \"hn\"]:\n",
    "        source_things = [t for t in things if t.source == source]\n",
    "        for _ in range(10):\n",
    "            c = pick_random_weighted(source_things)\n",
    "            source_things.remove(c)\n",
    "            good_stuff.append(c)\n",
    "    return good_stuff\n",
    "        \n",
    "recommend(all_content)\n",
    "\n",
    "def recommend_generator(things):\n",
    "    # Copy the input list and get rid of things that don't have a score\n",
    "    things = [t for t in things if t.score and int(t.score) >= 1]\n",
    "    while len(things) > 0:\n",
    "        # Pick a source randomly with a rectangular pdf (probability density function)\n",
    "        source = random.choice([\"reddit\", \"hn\"])\n",
    "        \n",
    "        source_things = [t for t in things if t.source == source]\n",
    "        if len(source_things) <= 0:\n",
    "            continue\n",
    "            \n",
    "        # Pick one article from the source, weighted by score\n",
    "        coming_up = pick_random_weighted(source_things)\n",
    "        things.remove(coming_up)  # Remove to prevent thing from appearing twice\n",
    "        \n",
    "        yield coming_up\n",
    "\n",
    "R = recommend_generator(all_content)"
   ]
  },
  {
   "cell_type": "code",
   "execution_count": 202,
   "metadata": {},
   "outputs": [],
   "source": [
    "# Run this once to create the content recommendation generator\n",
    "R = recommend_generator(all_content)"
   ]
  },
  {
   "cell_type": "code",
   "execution_count": 203,
   "metadata": {
    "scrolled": true
   },
   "outputs": [
    {
     "name": "stdout",
     "output_type": "stream",
     "text": [
      "[211] Two museums having an informative fight on Twitter (http://www.newstatesman.com/science-tech/social-media/2017/09/two-museums-are-having-fight-twitter-and-its-gloriously)\n",
      "[16] Implementing the function composition operator in JavaScript (https://medium.com/@gigobyte/implementing-the-function-composition-operator-in-javascript-e2c4f1847d6a)\n",
      "[164] A font for coders: \"Input\". I have never seen clearer curly brackets! (http://input.fontbureau.com/info/)\n",
      "[12] NBA 2k18 save file is 5GB per profile on the Nintendo Switch (http://en-americas-support.nintendo.com/app/answers/detail/a_id/27434)\n",
      "[92] Electron: The Bad Parts (https://hackernoon.com/electron-the-bad-parts-2b710c491547)\n",
      "[153] Chrome to force .dev domains to HTTPS via preloaded HSTS (https://ma.ttias.be/chrome-force-dev-domains-https-via-preloaded-hsts/)\n",
      "[54] Retro Arcade Racing Game - Programming from Scratch (Quick and Simple C++) (https://www.youtube.com/watch?v=KkMZI5Jbf18)\n",
      "[3] Tutorial on visualizing convolutional neural networks (https://www.oreilly.com/ideas/visualizing-convolutional-neural-networks)\n",
      "[1] More Good Programming Quotes, Part 2 (https://henrikwarne.com/2017/09/16/more-good-programming-quotes-part-2/)\n",
      "[30] Fully commented machine learning code, made with love by yours truly. (Python 3) (https://repl.it/LMlH)\n"
     ]
    }
   ],
   "source": [
    "# Every time you run this, you will get fresh content using the generator\n",
    "for _ in range(10):\n",
    "    t = next(R)\n",
    "    print(t)"
   ]
  },
  {
   "cell_type": "code",
   "execution_count": 222,
   "metadata": {
    "scrolled": false
   },
   "outputs": [
    {
     "name": "stdout",
     "output_type": "stream",
     "text": [
      "        | Your Feed\n",
      "———————— — — — —  —  —  —  —\n",
      "@reddit | Chrome to force .dev domains to HTTPS via preloaded HSTS\n",
      "   153p | https://ma.ttias.be/chrome-force-dev-domains-https-via-preloaded-hsts/\n",
      "———————— — — — —  —  —  —  —\n",
      "@reddit | Fully commented machine learning code, made with love by yours truly. (Python 3)\n",
      "    30p | https://repl.it/LMlH\n",
      "———————— — — — —  —  —  —  —\n",
      "@hn     | Show HN: Colors – A data-driven collection of beautiful color palettes\n",
      "    57p | https://klart.co/colors\n",
      "———————— — — — —  —  —  —  —\n",
      "@reddit | A font for coders: \"Input\". I have never seen clearer curly brackets!\n",
      "   164p | http://input.fontbureau.com/info/\n",
      "———————— — — — —  —  —  —  —\n",
      "@hn     | Buffett wins $1M decade-old bet that the S&P500 would outperform hedgefunds\n",
      "   291p | http://www.aei.org/publication/warren-buffett-wins-1m-bet-made-a-decade-ago-that-the-sp-500-stock-index-would-outperform-hedge-funds/\n",
      "———————— — — — —  —  —  —  —\n",
      "@hn     | Buffett wins $1M decade-old bet that the S&P500 would outperform hedgefunds\n",
      "   293p | http://www.aei.org/publication/warren-buffett-wins-1m-bet-made-a-decade-ago-that-the-sp-500-stock-index-would-outperform-hedge-funds/\n",
      "———————— — — — —  —  —  —  —\n",
      "@reddit | Unicore: A new Unikernel project\n",
      "    13p | https://lists.xen.org/archives/html/xen-devel/2017-09/msg00670.html\n",
      "———————— — — — —  —  —  —  —\n",
      "@hn     | Computers Are Taking Design Cues from Human Brains\n",
      "    34p | https://mobile.nytimes.com/2017/09/16/technology/chips-off-the-old-block-computers-are-taking-design-cues-from-human-brains.html\n",
      "———————— — — — —  —  —  —  —\n",
      "@hn     | Expressive Writing Cools Brain on Stressful Tasks\n",
      "    38p | http://msutoday.msu.edu/news/2017/for-worriers-expressive-writing-cools-brain-on-stressful-tasks/\n",
      "———————— — — — —  —  —  —  —\n",
      "@hn     | We've failed: open access is winning and we must change our approach\n",
      "   569p | http://onlinelibrary.wiley.com/doi/10.1002/leap.1116/full\n",
      "———————— — — — —  —  —  —  —\n"
     ]
    }
   ],
   "source": [
    "# Or alternatively, you can get all the content in one go.\n",
    "R = recommend_generator(all_content)\n",
    "feed = list(R)\n",
    "print(\"        | Your Feed\")\n",
    "print(\"———————— — — — —  —  —  —  —\")\n",
    "for t in feed[:10]:\n",
    "    print(\"@{:6} | {}\".format(t.source, t.title))\n",
    "    print(\"{:6}p | {}\".format(t.score, t.url))\n",
    "    print(\"———————— — — — —  —  —  —  —\")"
   ]
  },
  {
   "cell_type": "markdown",
   "metadata": {},
   "source": [
    "## Analyzing articles\n",
    "\n",
    "Now that we have some content to play with, lets analyse it.\n",
    "\n",
    "#### Step 1: Install and import the algorithmia package"
   ]
  },
  {
   "cell_type": "code",
   "execution_count": 224,
   "metadata": {},
   "outputs": [
    {
     "name": "stdout",
     "output_type": "stream",
     "text": [
      "Name: algorithmia\r\n",
      "Version: 1.0.8\r\n",
      "Summary: Algorithmia Python Client\r\n",
      "Home-page: http://github.com/algorithmiaio/algorithmia-python\r\n",
      "Author: Algorithmia\r\n",
      "Author-email: support@algorithmia.com\r\n",
      "License: MIT\r\n",
      "Location: /home/erb/.local/lib/python3.6/site-packages\r\n",
      "Requires: enum34, requests, six\r\n"
     ]
    }
   ],
   "source": [
    "# Install\n",
    "!pip3 show algorithmia || pip3 install --user algorithmia"
   ]
  },
  {
   "cell_type": "code",
   "execution_count": 225,
   "metadata": {},
   "outputs": [],
   "source": [
    "# Import\n",
    "import Algorithmia"
   ]
  },
  {
   "cell_type": "markdown",
   "metadata": {},
   "source": [
    "#### Step 2: Get and setup and API key\n",
    "\n",
    "[Create an account]() on Algorithmia, log in, and put your API key below (it can be found [here](https://algorithmia.com/users/erb#credentials))."
   ]
  },
  {
   "cell_type": "code",
   "execution_count": 226,
   "metadata": {},
   "outputs": [],
   "source": [
    "API_KEY = 'simtICyX1Ng5PD33Bm479NS78Sq1'\n",
    "client = Algorithmia.client(API_KEY)"
   ]
  },
  {
   "cell_type": "markdown",
   "metadata": {},
   "source": [
    "#### Step 3: Analyse it!\n",
    "\n",
    "Now for the *really* cool part.\n",
    "\n",
    "Here are a few useful algos you could do cool stuff with:\n",
    "\n",
    " - https://algorithmia.com/algorithms/nlp/SentimentByTerm\n",
    " - https://algorithmia.com/algorithms/nlp/SummarizeURL\n",
    " - https://algorithmia.com/algorithms/nlp/AutoTag\n",
    " - https://algorithmia.com/algorithms/tags/AutoTagURL\n",
    " - https://algorithmia.com/algorithms/StanfordNLP/NamedEntityRecognition"
   ]
  },
  {
   "cell_type": "code",
   "execution_count": 227,
   "metadata": {
    "scrolled": false
   },
   "outputs": [
    {
     "name": "stdout",
     "output_type": "stream",
     "text": [
      "[(('ORGANIZATION', 'News'), 2),\n",
      " (('PERSON', 'Buffett'), 2),\n",
      " (('ORGANIZATION', 'S&P'), 2),\n",
      " (('LOCATION', 'Silicon'), 2),\n",
      " (('LOCATION', 'Valley'), 2),\n",
      " (('PERSON', 'Isaac'), 2),\n",
      " (('PERSON', 'Newton'), 2),\n",
      " (('LOCATION', 'California'), 2),\n",
      " (('LOCATION', 'China'), 2),\n",
      " (('PERSON', 'Richard'), 2)]\n"
     ]
    }
   ],
   "source": [
    "# See which terms tend to appear in the post titles\n",
    "# Note that this doesn't work very well. \n",
    "# Probably because of the weird capitalization used in titles, which the algorithm presumably relies upon.\n",
    "\n",
    "from collections import Counter\n",
    "from pprint import pprint\n",
    "\n",
    "logging.getLogger(\"requests\").setLevel(logging.INFO)\n",
    "\n",
    "\n",
    "# Join all titles together into a sequence of sentences\n",
    "titles = [c.title for c in all_content if c.title]\n",
    "title_corpus = \". \".join(titles)\n",
    "\n",
    "algo = client.algo('StanfordNLP/NamedEntityRecognition/0.2.0')\n",
    "response = algo.pipe({\"document\": title_corpus})\n",
    "\n",
    "c = Counter()\n",
    "for sentence in response.result[\"sentences\"]:\n",
    "    for entity in sentence[\"detectedEntities\"]:\n",
    "        entity_type = entity[\"entity\"]\n",
    "        word = entity[\"word\"]\n",
    "        if entity_type in [\"ORGANIZATION\", \"PERSON\", \"LOCATION\"]:\n",
    "            #print(\"{}: {}\".format(entity_type, word))\n",
    "            c[(entity_type, word)] += 1\n",
    "            \n",
    "pprint(c.most_common(10))"
   ]
  },
  {
   "cell_type": "code",
   "execution_count": 228,
   "metadata": {
    "scrolled": false
   },
   "outputs": [
    {
     "name": "stdout",
     "output_type": "stream",
     "text": [
      "Chrome to force .dev domains to HTTPS via preloaded HSTS\n",
      "[('reply', 9),\n",
      " ('development', 8),\n",
      " ('https', 4),\n",
      " ('practice', 3),\n",
      " ('browser', 2)]\n",
      "\n",
      "Electron: The Bad Parts\n",
      "[('electron', 22),\n",
      " ('things', 8),\n",
      " ('installer', 7),\n",
      " ('build', 6),\n",
      " ('modules', 6)]\n",
      "\n",
      "A font for coders: \"Input\". I have never seen clearer curly brackets!\n",
      "[('code', 19), ('bold', 8), ('indentation', 4), ('normal', 4), ('pixel', 4)]\n",
      "\n",
      "Retro Arcade Racing Game - Programming from Scratch (Quick and Simple C++)\n",
      "[('game', 3), ('enjoyment', 1), ('maths', 1)]\n",
      "\n",
      "Implementing the function composition operator in JavaScript\n",
      "[('compose', 7),\n",
      " ('javascript', 7),\n",
      " ('composition', 4),\n",
      " ('property', 3),\n",
      " ('mind', 2)]\n",
      "\n"
     ]
    }
   ],
   "source": [
    "for c in all_content[:5]:\n",
    "    print(c.title)\n",
    "    algo = client.algo('tags/AutoTagURL/0.1.9')\n",
    "    response = algo.pipe(c.url)\n",
    "    pprint(Counter(**response.result).most_common(5))\n",
    "    print()"
   ]
  },
  {
   "cell_type": "code",
   "execution_count": 229,
   "metadata": {
    "scrolled": false
   },
   "outputs": [
    {
     "name": "stdout",
     "output_type": "stream",
     "text": [
      "Chrome to force .dev domains to HTTPS via preloaded HSTS\n",
      "Summary: tl;dr: one of the next versions of Chrome is going to force all domains ending on .dev (and .foo) to be redirected to HTTPs via a preloaded HTTP Strict Transport Security (HSTS) header. Although ultimately I’d say you just shouldn’t consider hostnames to be a secret.) Reply ↓ @Hanno I think it’s silly to pay a CA for a development certificate.\n",
      "\n",
      "Electron: The Bad Parts\n",
      "Summary: Electron probably has more than its share of the good — but also hides some dark secrets under its shining facade. While the first impression of Electron might be that it solves all the problems related to cross platform development the reality is that many things won’t work out of the box and they probably can’t.\n",
      "\n",
      "A font for coders: \"Input\". I have never seen clearer curly brackets!\n",
      "Summary: Input was drawn over an 11‑pixel grid. Input takes its aesthetic cues from monospaced fonts and pixel fonts designed for consoles and screens, but casts off the technical limitations that constrained them.\n",
      "\n",
      "Retro Arcade Racing Game - Programming from Scratch (Quick and Simple C++)\n",
      "Summary: Loading. This video shows how to create a simple retro style racing game in quick and simple C++.\n",
      "\n",
      "Implementing the function composition operator in JavaScript\n",
      "Summary: Despite functional programming being popular in JavaScript land for quite a while now, there is still a noticeable lack of functional programming syntax in the language. The short answer is “yes” and not only that.\n",
      "\n"
     ]
    }
   ],
   "source": [
    "for c in all_content[:5]:\n",
    "    print(c.title)\n",
    "    algo = client.algo('nlp/SummarizeURL/0.1.4')\n",
    "    response = algo.pipe([c.url, 2])\n",
    "    print(\"Summary:\", response.result)\n",
    "    print()"
   ]
  },
  {
   "cell_type": "code",
   "execution_count": null,
   "metadata": {},
   "outputs": [],
   "source": []
  }
 ],
 "metadata": {
  "kernelspec": {
   "display_name": "Python 3",
   "language": "python",
   "name": "python3"
  },
  "language_info": {
   "codemirror_mode": {
    "name": "ipython",
    "version": 3
   },
   "file_extension": ".py",
   "mimetype": "text/x-python",
   "name": "python",
   "nbconvert_exporter": "python",
   "pygments_lexer": "ipython3",
   "version": "3.6.2"
  }
 },
 "nbformat": 4,
 "nbformat_minor": 2
}
