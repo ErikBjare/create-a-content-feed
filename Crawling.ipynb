{
 "cells": [
  {
   "cell_type": "markdown",
   "metadata": {},
   "source": [
    "# How to build your own content recommendation with Python\n",
    "\n",
    "By crawling Reddit and Hacker News, and then using machine learning with Algorithmia."
   ]
  },
  {
   "cell_type": "markdown",
   "metadata": {},
   "source": [
    "## Scraping the web\n",
    "\n",
    "#### Step 1: Install `scrapy`"
   ]
  },
  {
   "cell_type": "code",
   "execution_count": 1,
   "metadata": {
    "scrolled": true
   },
   "outputs": [],
   "source": [
    "# Install scrapy if not already installed\n",
    "!pip3 show -q scrapy || pip3 install --user scrapy"
   ]
  },
  {
   "cell_type": "code",
   "execution_count": 2,
   "metadata": {},
   "outputs": [],
   "source": [
    "import logging\n",
    "\n",
    "import scrapy\n",
    "logging.getLogger().setLevel(logging.WARNING)\n",
    "\n",
    "from content import Content\n",
    "\n",
    "# Here we import the spiders\n",
    "# To understand them, read the scrapy docs.\n",
    "# This is a good start: https://doc.scrapy.org/en/latest/topics/practices.html\n",
    "from redditspider import RedditSpider\n",
    "from hnspider import HNSpider"
   ]
  },
  {
   "cell_type": "code",
   "execution_count": 3,
   "metadata": {},
   "outputs": [
    {
     "name": "stderr",
     "output_type": "stream",
     "text": [
      "INFO:scrapy.utils.log:Scrapy 1.4.0 started (bot: scrapybot)\n",
      "2017-09-15 19:23:03 [scrapy.utils.log] INFO: Scrapy 1.4.0 started (bot: scrapybot)\n",
      "INFO:scrapy.utils.log:Overridden settings: {'USER_AGENT': 'Mozilla/4.0 (compatible; MSIE 7.0; Windows NT 5.1)'}\n",
      "2017-09-15 19:23:03 [scrapy.utils.log] INFO: Overridden settings: {'USER_AGENT': 'Mozilla/4.0 (compatible; MSIE 7.0; Windows NT 5.1)'}\n"
     ]
    },
    {
     "name": "stdout",
     "output_type": "stream",
     "text": [
      "Found 110 things\n"
     ]
    }
   ],
   "source": [
    "#from twisted.internet import reactor\n",
    "from scrapy.crawler import CrawlerProcess\n",
    "\n",
    "SETTINGS = {\n",
    "    'USER_AGENT': 'Mozilla/4.0 (compatible; MSIE 7.0; Windows NT 5.1)'\n",
    "}\n",
    "\n",
    "crawler = CrawlerProcess(SETTINGS)\n",
    "\n",
    "logging.getLogger(\"scrapy.middleware\").setLevel(logging.WARNING)\n",
    "logging.getLogger(\"scrapy.statscollectors\").setLevel(logging.WARNING)\n",
    "logging.getLogger(\"scrapy.core.engine\").setLevel(logging.WARNING)\n",
    "\n",
    "crawler.crawl(RedditSpider)\n",
    "crawler.crawl(HNSpider)\n",
    "crawler.start()\n",
    "\n",
    "# TODO: Remove duplicates\n",
    "reddit_content = RedditSpider.content_found\n",
    "hn_content = HNSpider.content_found\n",
    "\n",
    "all_content = reddit_content + hn_content\n",
    "print(\"Found {} things\".format(len(all_content)))"
   ]
  },
  {
   "cell_type": "code",
   "execution_count": 4,
   "metadata": {},
   "outputs": [
    {
     "name": "stdout",
     "output_type": "stream",
     "text": [
      "========\n",
      " Reddit \n",
      "--------\n",
      "[4835] Sublime Text 3 is out! (http://www.sublimetext.com/blog/articles/sublime-text-3-point-0)\n",
      "[2518] WordPress abandoning React due to Facebook patent clause (https://ma.tt/2017/09/on-react-and-wordpress/)\n",
      "[2515] WordPress abandoning React due to Facebook patent clause (https://ma.tt/2017/09/on-react-and-wordpress/)\n",
      "[2372] Build a working game of Tetris in Conway's Game of Life (https://codegolf.stackexchange.com/questions/11880/build-a-working-game-of-tetris-in-conways-game-of-life)\n",
      "[1783] Main is usually a function. So then when is it not? (http://jroweboy.github.io/c/asm/2015/01/26/when-is-main-not-a-function.html)\n",
      "[1506] The hackers who broke into Equifax exploited a flaw in Struts (https://qz.com/1073221/the-hackers-who-broke-into-equifax-exploited-a-nine-year-old-security-flaw/)\n",
      "[1265] Atom (Github) announces atom-ide (http://blog.atom.io/2017/09/12/announcing-atom-ide.html)\n",
      "[1159] Is StubHub's Website Deceiving users? (http://jordancolburn.com/2017/09/11/stubhub-shows-already-sold-tickets/)\n",
      "[1003] Tom Scott: Huffman Coding and Huffman Trees (https://www.youtube.com/watch?v=JsTptu56GM8)\n",
      "[643] Story of retry (https://blog.chib.me/story-of-retry/)\n",
      "=============\n",
      " Hacker News \n",
      "-------------\n",
      "[608] Spain Fines Facebook Over Tracking Users Without Consent (http://www.tomshardware.com/news/spain-fines-facebook-deleted-accounts,35425.html)\n",
      "[584] Face ID, Touch ID, No ID, PINs and Pragmatic Security (https://www.troyhunt.com/face-id-touch-id-pins-no-id-and-pragmatic-security/)\n",
      "[485] On React and WordPress (https://ma.tt/2017/09/on-react-and-wordpress/)\n",
      "[407] Firefox Multi-Account Containers (https://blog.mozilla.org/firefox/introducing-firefox-multi-account-containers/)\n",
      "[392] Malicious software libraries found in PyPI posing as well known libraries (http://www.nbu.gov.sk/skcsirt-sa-20170909-pypi/)\n",
      "[391] Mystery of sonic weapon attacks in Cuba deepens (https://www.theguardian.com/world/2017/sep/14/mystery-of-sonic-weapon-attacks-at-us-embassy-in-cuba-deepens)\n",
      "[339] Alphabet considers Lyft investment of about $1B (https://www.bloomberg.com/news/articles/2017-09-14/alphabet-is-said-to-consider-lyft-investment-of-about-1-billion)\n",
      "[310] MacOS 10.12.6 Source (https://opensource.apple.com/release/macos-10126.html)\n",
      "[305] There Are Only Four Billion Floats, So Test Them All (2014) (https://randomascii.wordpress.com/2014/01/27/theres-only-four-billion-floatsso-test-them-all/)\n",
      "[262] Why is it faster to process a sorted array than an unsorted array? (2012) (https://stackoverflow.com/questions/11227809/why-is-it-faster-to-process-a-sorted-array-than-an-unsorted-array?m=1)\n"
     ]
    }
   ],
   "source": [
    "reddit_things = RedditSpider.content_found\n",
    "\n",
    "score_key = lambda t: int(t.score) if t.score else 0\n",
    "\n",
    "print(\"========\")\n",
    "print(\" Reddit \")\n",
    "print(\"--------\")\n",
    "for t in sorted(reddit_things, key=score_key, reverse=True)[:10]:\n",
    "    print(t)\n",
    "    \n",
    "hn_things = HNSpider.content_found\n",
    "    \n",
    "print(\"=============\")\n",
    "print(\" Hacker News \")\n",
    "print(\"-------------\")\n",
    "for t in sorted(hn_things, key=score_key, reverse=True)[:10]:\n",
    "    print(t)"
   ]
  },
  {
   "cell_type": "markdown",
   "metadata": {},
   "source": [
    "## Analyzing articles\n",
    "\n",
    "Now that we have some content to play with, lets analyse it.\n",
    "\n",
    "#### Step 1: Install and import the algorithmia package"
   ]
  },
  {
   "cell_type": "code",
   "execution_count": 5,
   "metadata": {},
   "outputs": [],
   "source": [
    "# Install\n",
    "!pip3 show -q algorithmia || pip3 install --user algorithmia"
   ]
  },
  {
   "cell_type": "code",
   "execution_count": 6,
   "metadata": {
    "collapsed": true
   },
   "outputs": [],
   "source": [
    "# Import\n",
    "import Algorithmia"
   ]
  },
  {
   "cell_type": "markdown",
   "metadata": {},
   "source": [
    "#### Step 2: Get and setup and API key\n",
    "\n",
    "[Create an account]() on Algorithmia, log in, and put your API key below (it can be found [here](https://algorithmia.com/users/erb#credentials))."
   ]
  },
  {
   "cell_type": "code",
   "execution_count": 7,
   "metadata": {
    "collapsed": true
   },
   "outputs": [],
   "source": [
    "API_KEY = 'simtICyX1Ng5PD33Bm479NS78Sq1'\n",
    "client = Algorithmia.client(API_KEY)"
   ]
  },
  {
   "cell_type": "markdown",
   "metadata": {},
   "source": [
    "#### Step 3: Analyse it!\n",
    "\n",
    "Now for the *really* cool part.\n",
    "\n",
    "Here are a few useful algos you could do cool stuff with:\n",
    "\n",
    " - https://algorithmia.com/algorithms/nlp/SentimentByTerm\n",
    " - https://algorithmia.com/algorithms/nlp/SummarizeURL\n",
    " - https://algorithmia.com/algorithms/nlp/AutoTag\n",
    " - https://algorithmia.com/algorithms/tags/AutoTagURL\n",
    " - https://algorithmia.com/algorithms/StanfordNLP/NamedEntityRecognition"
   ]
  },
  {
   "cell_type": "code",
   "execution_count": 8,
   "metadata": {
    "scrolled": false
   },
   "outputs": [
    {
     "name": "stdout",
     "output_type": "stream",
     "text": [
      "[(('ORGANIZATION', 'Facebook'), 4),\n",
      " (('ORGANIZATION', 'Equifax'), 3),\n",
      " (('ORGANIZATION', 'Huffman'), 2),\n",
      " (('ORGANIZATION', 'Firefox'), 2),\n",
      " (('ORGANIZATION', 'Google'), 2),\n",
      " (('PERSON', 'Python'), 2),\n",
      " (('LOCATION', 'Spain'), 1),\n",
      " (('ORGANIZATION', 'Direct'), 1),\n",
      " (('PERSON', 'Patreon'), 1),\n",
      " (('PERSON', 'Euler'), 1)]\n"
     ]
    }
   ],
   "source": [
    "# See which terms tend to appear in the post titles\n",
    "# Note that this doesn't work very well. \n",
    "# Probably because of the weird capitalization used in titles, which the algorithm presumably relies upon.\n",
    "\n",
    "from collections import Counter\n",
    "from pprint import pprint\n",
    "\n",
    "logging.getLogger(\"requests\").setLevel(logging.INFO)\n",
    "\n",
    "\n",
    "# Join all titles together into a sequence of sentences\n",
    "titles = [c.title for c in all_content if c.title]\n",
    "title_corpus = \". \".join(titles)\n",
    "\n",
    "algo = client.algo('StanfordNLP/NamedEntityRecognition/0.2.0')\n",
    "response = algo.pipe({\"document\": title_corpus})\n",
    "\n",
    "c = Counter()\n",
    "for sentence in response.result[\"sentences\"]:\n",
    "    for entity in sentence[\"detectedEntities\"]:\n",
    "        entity_type = entity[\"entity\"]\n",
    "        word = entity[\"word\"]\n",
    "        if entity_type in [\"ORGANIZATION\", \"PERSON\", \"LOCATION\"]:\n",
    "            #print(\"{}: {}\".format(entity_type, word))\n",
    "            c[(entity_type, word)] += 1\n",
    "            \n",
    "pprint(c.most_common(10))"
   ]
  },
  {
   "cell_type": "code",
   "execution_count": 9,
   "metadata": {},
   "outputs": [
    {
     "name": "stdout",
     "output_type": "stream",
     "text": [
      "Sublime Text 3 is out!\n",
      "[('touch', 2), ('highlighting', 2), ('team', 2), ('license', 2), ('support', 2)]\n",
      "\n",
      "WordPress abandoning React due to Facebook patent clause\n",
      "[('vue', 53), ('community', 19), ('matt', 15), ('developers', 13), ('happy', 9)]\n",
      "\n",
      "Build a working game of Tetris in Conway's Game of Life\n",
      "[('address', 32), ('bit', 29), ('subroutine', 28), ('clock', 16), ('cells', 16)]\n",
      "\n",
      "Main is usually a function. So then when is it not?\n",
      "[('code', 17), ('find', 7), ('works', 5), ('section', 5), ('dump', 3)]\n",
      "\n",
      "The hackers who broke into Equifax exploited a flaw in Struts\n",
      "[('apache', 3), ('researchers', 3), ('company', 2), ('personal', 2), ('bug', 2)]\n",
      "\n"
     ]
    }
   ],
   "source": [
    "for c in all_content[:5]:\n",
    "    print(c.title)\n",
    "    algo = client.algo('tags/AutoTagURL/0.1.9')\n",
    "    response = algo.pipe(c.url)\n",
    "    pprint(Counter(**response.result).most_common(5))\n",
    "    print()"
   ]
  },
  {
   "cell_type": "code",
   "execution_count": 10,
   "metadata": {},
   "outputs": [
    {
     "name": "stdout",
     "output_type": "stream",
     "text": [
      "Sublime Text 3 is out!\n",
      "Summary: Sublime Text 3.0 is out. I wanted to highlight some of the changes from Sublime Text 2 here, however it's surprisingly hard: virtually every aspect of the editor has been improved in some way, and even a list of the major changes would be too long.\n",
      "\n",
      "WordPress abandoning React due to Facebook patent clause\n",
      "Summary: Big companies like to bury unpleasant news on Fridays: A few weeks ago, Facebook announced they have decided to dig in on their patent clause addition to the React license, even after Apache had said it’s no longer allowed for Apache.org projects. Wonder if they will look at Vue.\n",
      "\n",
      "Build a working game of Tetris in Conway's Game of Life\n",
      "Summary: Here is a theoretical question - one that doesn't afford an easy answer in any case, not even the trivial one. Your program will receive input by manually changing the state of the automaton at a specific generation to represent an interrupt (e.g.\n",
      "\n",
      "Main is usually a function. So then when is it not?\n",
      "Summary: We joked with him about how he needs to make a program that works, but the grading TAs wouldn’t be able to figure out how it works. The idea for this trick I will explain how to accomplish came from a blog with the name main is usually a function which got me thinking about when would main not be a function.\n",
      "\n",
      "The hackers who broke into Equifax exploited a flaw in Struts\n",
      "Summary: Correction (Sep. 8, 7:20 p.m.): An earlier version of this article said the vulnerability exploited by the hackers who broke into Equifax was the one disclosed on Sep.\n",
      "\n"
     ]
    }
   ],
   "source": [
    "for c in all_content[:5]:\n",
    "    print(c.title)\n",
    "    algo = client.algo('nlp/SummarizeURL/0.1.4')\n",
    "    response = algo.pipe([c.url, 2])\n",
    "    print(\"Summary:\", response.result)\n",
    "    print()"
   ]
  }
 ],
 "metadata": {
  "kernelspec": {
   "display_name": "Python 3",
   "language": "python",
   "name": "python3"
  },
  "language_info": {
   "codemirror_mode": {
    "name": "ipython",
    "version": 3
   },
   "file_extension": ".py",
   "mimetype": "text/x-python",
   "name": "python",
   "nbconvert_exporter": "python",
   "pygments_lexer": "ipython3",
   "version": "3.5.2"
  }
 },
 "nbformat": 4,
 "nbformat_minor": 2
}
