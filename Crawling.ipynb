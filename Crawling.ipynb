{
 "cells": [
  {
   "cell_type": "markdown",
   "metadata": {},
   "source": [
    "# How to build your own content feed with Python\n",
    "\n",
    "By crawling Reddit and Hacker News, and then using machine learning with Algorithmia."
   ]
  },
  {
   "cell_type": "markdown",
   "metadata": {},
   "source": [
    "## Scraping the web\n",
    "\n",
    "#### Step 1: Install `scrapy`"
   ]
  },
  {
   "cell_type": "code",
   "execution_count": 1,
   "metadata": {
    "scrolled": true
   },
   "outputs": [
    {
     "name": "stdout",
     "output_type": "stream",
     "text": [
      "Name: Scrapy\r\n",
      "Version: 1.4.0\r\n",
      "Summary: A high-level Web Crawling and Web Scraping framework\r\n",
      "Home-page: http://scrapy.org\r\n",
      "Author: Pablo Hoffman\r\n",
      "Author-email: pablo@pablohoffman.com\r\n",
      "License: BSD\r\n",
      "Location: /home/erb/.local/lib/python3.6/site-packages\r\n",
      "Requires: PyDispatcher, cssselect, queuelib, lxml, service-identity, parsel, six, Twisted, w3lib, pyOpenSSL\r\n"
     ]
    }
   ],
   "source": [
    "# Install scrapy if not already installed\n",
    "#\n",
    "# How to read this line: \n",
    "#   1. Show info about installed package scrapy.\n",
    "#   2. If it could not find the package: install it.\n",
    "!pip3 show scrapy || pip3 install --user scrapy"
   ]
  },
  {
   "cell_type": "code",
   "execution_count": 2,
   "metadata": {},
   "outputs": [
    {
     "name": "stdout",
     "output_type": "stream",
     "text": [
      "2017-09-17 23:03:05 [scrapy.utils.log] INFO: Scrapy 1.4.0 started (bot: scrapybot)\n",
      "2017-09-17 23:03:05 [scrapy.utils.log] INFO: Overridden settings: {'USER_AGENT': 'Mozilla/4.0 (compatible; MSIE 7.0; Windows NT 5.1)'}\n",
      "2017-09-17 23:03:05 [scrapy.extensions.logstats] INFO: Crawled 0 pages (at 0 pages/min), scraped 0 items (at 0 items/min)\n",
      "2017-09-17 23:03:05 [scrapy.extensions.logstats] INFO: Crawled 0 pages (at 0 pages/min), scraped 0 items (at 0 items/min)\n",
      "2017-09-17 23:03:05 [scrapy.downloadermiddlewares.redirect] DEBUG: Redirecting (301) to <GET https://www.reddit.com/r/Python/top/?sort=top&t=day> from <GET https://www.reddit.com/r/python/top/?sort=top&t=day>\n"
     ]
    }
   ],
   "source": [
    "# For some Very Good Reasons, we've made our crawler runnable as a script.\n",
    "!python3 run_crawler.py"
   ]
  },
  {
   "cell_type": "code",
   "execution_count": 3,
   "metadata": {},
   "outputs": [
    {
     "name": "stdout",
     "output_type": "stream",
     "text": [
      "Loaded 140 things\n"
     ]
    }
   ],
   "source": [
    "from basespiders import load_content\n",
    "\n",
    "all_content = load_content()\n",
    "print(\"Loaded {} things\".format(len(all_content)))"
   ]
  },
  {
   "cell_type": "code",
   "execution_count": 4,
   "metadata": {},
   "outputs": [
    {
     "name": "stdout",
     "output_type": "stream",
     "text": [
      "========\n",
      " Reddit \n",
      "--------\n",
      "[389] A font for coders: \"Input\". I have never seen clearer curly brackets! (http://input.fontbureau.com/info/)\n",
      "[193] Python made animation. (/r/Python/comments/70nxze/python_made_animation/)\n",
      "[170] Chrome to force .dev domains to HTTPS via preloaded HSTS (https://ma.ttias.be/chrome-force-dev-domains-https-via-preloaded-hsts/)\n",
      "[158] What’s New In Python 3.7 — Python 3.7.0a0 documentation (https://docs.python.org/3.7/whatsnew/3.7.html)\n",
      "[105] Python Release Python 2.7.14 (https://www.python.org/downloads/release/python-2714/)\n",
      "=============\n",
      " Hacker News \n",
      "-------------\n",
      "[826] Firefox Multi-Account Containers (https://blog.mozilla.org/firefox/introducing-firefox-multi-account-containers/)\n",
      "[569] We've failed: open access is winning and we must change our approach (http://onlinelibrary.wiley.com/doi/10.1002/leap.1116/full)\n",
      "[362] Buffett wins $1M decade-old bet that the S&P500 would outperform hedgefunds (http://www.aei.org/publication/warren-buffett-wins-1m-bet-made-a-decade-ago-that-the-sp-500-stock-index-would-outperform-hedge-funds/)\n",
      "[361] Buffett wins $1M decade-old bet that the S&P500 would outperform hedgefunds (http://www.aei.org/publication/warren-buffett-wins-1m-bet-made-a-decade-ago-that-the-sp-500-stock-index-would-outperform-hedge-funds/)\n",
      "[303] Eclipse OpenJ9 – Open-source JVM (https://github.com/eclipse/openj9)\n"
     ]
    }
   ],
   "source": [
    "def score_key(t):\n",
    "    \"\"\"Useful when sorting content by score\"\"\"\n",
    "    return int(t.score) if t.score else 0\n",
    "\n",
    "def list_content(title, content, n=5):\n",
    "    print(\"=\" * (len(title) + 2))\n",
    "    print(\" \" + title + \" \")\n",
    "    print(\"-\" * (len(title) + 2))\n",
    "    for c in content[:n]:\n",
    "        print(c)\n",
    "        \n",
    "reddit_things = sorted([c for c in all_content if c.source == \"reddit\"], key=score_key, reverse=True)\n",
    "list_content(\"Reddit\", reddit_things)\n",
    "\n",
    "hn_things = sorted([c for c in all_content if c.source == \"hn\"], key=score_key, reverse=True)\n",
    "list_content(\"Hacker News\", hn_things)"
   ]
  },
  {
   "cell_type": "code",
   "execution_count": 5,
   "metadata": {},
   "outputs": [
    {
     "name": "stdout",
     "output_type": "stream",
     "text": [
      "<Content source='reddit' title='Pythons Positive Press Pumps Pandas'>\n",
      "Pythons Positive Press Pumps Pandas\n",
      "http://paddy3118.blogspot.co.uk/2017/09/pythons-positive-press-pumps-pandas.html\n"
     ]
    }
   ],
   "source": [
    "import random\n",
    "from random import randint\n",
    "\n",
    "def weighted_random(pairs):\n",
    "    total = sum(pair[0] for pair in pairs)\n",
    "    r = randint(1, total)\n",
    "    for (weight, value) in pairs:\n",
    "        r -= weight\n",
    "        if r <= 0: return value\n",
    "        \n",
    "def pick_random_weighted(things, key=score_key):\n",
    "    return weighted_random([(score_key(thing), thing) for thing in things])\n",
    "\n",
    "c = pick_random_weighted(reddit_things)\n",
    "print(repr(c))\n",
    "print(c.title)\n",
    "print(c.url)"
   ]
  },
  {
   "cell_type": "code",
   "execution_count": 6,
   "metadata": {},
   "outputs": [
    {
     "data": {
      "text/plain": [
       "[<Content source='hn' title='Firefox Multi-Account Containers'>,\n",
       " <Content source='hn' title='Wind energy used to mine cryptocurrency ...'>,\n",
       " <Content source='reddit' title='Python made animation.'>,\n",
       " <Content source='reddit' title='Whats New In Python 3.7  Python 3.7.0a...'>,\n",
       " <Content source='hn' title='Chrome to force .dev domains to HTTPS vi...'>]"
      ]
     },
     "execution_count": 6,
     "metadata": {},
     "output_type": "execute_result"
    }
   ],
   "source": [
    "def recommend(things, n=20):\n",
    "    \"\"\"A simple recommender that picks 10 articles randomly from each source\"\"\"\n",
    "    # Copy the input list and get rid of things that don't have a score\n",
    "    things = [t for t in things if t.score and int(t.score) >= 1]\n",
    "    \n",
    "    good_stuff = []\n",
    "    for i in range(n):\n",
    "        # Pick a source randomly using a rectangular pdf (probability density function)\n",
    "        source = random.choice([\"reddit\", \"hn\"])\n",
    "        \n",
    "        source_things = [t for t in things if t.source == source]\n",
    "        recommended = pick_random_weighted(source_things)\n",
    "        \n",
    "        things.remove(recommended)\n",
    "        good_stuff.append(recommended)\n",
    "    return good_stuff\n",
    "\n",
    "recommend(all_content, n=5)"
   ]
  },
  {
   "cell_type": "code",
   "execution_count": 7,
   "metadata": {},
   "outputs": [
    {
     "name": "stdout",
     "output_type": "stream",
     "text": [
      "reddit  : 12 out of 20\n",
      "hn      : 8 out of 20\n"
     ]
    },
    {
     "data": {
      "text/plain": [
       "[<Content source='reddit' title='A font for coders: \"Input\". I have never...'>,\n",
       " <Content source='hn' title='Ask HN: What's the next big advance in A...'>,\n",
       " <Content source='hn' title='Two museums having an informative fight ...'>,\n",
       " <Content source='reddit' title='Chrome to force .dev domains to HTTPS vi...'>,\n",
       " <Content source='hn' title='To treat back pain, look to the brain no...'>,\n",
       " <Content source='hn' title='Chrome to force .dev domains to HTTPS vi...'>,\n",
       " <Content source='hn' title='Buffett wins $1M decade-old bet that the...'>,\n",
       " <Content source='reddit' title='Discover the world of microcontrollers t...'>,\n",
       " <Content source='reddit' title='Do you use pandas Index?'>,\n",
       " <Content source='reddit' title='Python made animation.'>,\n",
       " <Content source='reddit' title='Electron: The Bad Parts'>,\n",
       " <Content source='reddit' title='Pythons Positive Press Pumps Pandas'>,\n",
       " <Content source='reddit' title='Python Release Python 2.7.14'>,\n",
       " <Content source='hn' title='Here I Stand, at Age 80'>,\n",
       " <Content source='reddit' title='Tutorial on visualizing convolutional ne...'>,\n",
       " <Content source='hn' title='Why is memory reclamation so important f...'>,\n",
       " <Content source='hn' title='Digging into a Solopreneur's Experimenta...'>,\n",
       " <Content source='reddit' title='Whats New In Python 3.7  Python 3.7.0a...'>,\n",
       " <Content source='reddit' title='Flamegraph generator from cProfile stats'>,\n",
       " <Content source='reddit' title='Implementing the function composition op...'>]"
      ]
     },
     "execution_count": 7,
     "metadata": {},
     "output_type": "execute_result"
    }
   ],
   "source": [
    "# These weights give us about 60% reddit content and 40% HN content\n",
    "# Sources not in this list will have weight 1 by default.\n",
    "source_weights = {\"reddit\": 6, \"hn\": 4}\n",
    "\n",
    "def recommend_generator(things):\n",
    "    \"\"\"\n",
    "    A little more advanced than the above. \n",
    "    Uses a generator so we can get however many recommendations we want.\n",
    "    This simplifies the logic, which enables us to easily add some other features.\n",
    "    \"\"\"\n",
    "    # Copy the input list and get rid of things that don't have a score\n",
    "    things = [t for t in things if t.score and int(t.score) >= 1]\n",
    "    \n",
    "    # Create a set of all sources\n",
    "    sources = {t.source for t in things}\n",
    "    sources_weighted = [(1 if source not in source_weights else source_weights[source], \n",
    "                         source) \n",
    "                        for source in sources]\n",
    "    \n",
    "    while len(things) > 0:\n",
    "        # Pick a source according to some weights\n",
    "        source = weighted_random(sources_weighted)\n",
    "        \n",
    "        source_things = [t for t in things if t.source == source]\n",
    "        if len(source_things) <= 0:\n",
    "            continue\n",
    "            \n",
    "        # Pick one article from the source, weighted by score\n",
    "        recommended = pick_random_weighted(source_things)\n",
    "        \n",
    "        # Remove it to prevent it to get recommended twice\n",
    "        things.remove(recommended)\n",
    "        \n",
    "        yield recommended\n",
    "        \n",
    "feed = list(recommend_generator(all_content))[:20]\n",
    "for source in source_weights:\n",
    "    print(\"{:8s}: {} out of {}\".format(source, len([t for t in feed if t.source == source]), len(feed)))\n",
    "feed"
   ]
  },
  {
   "cell_type": "code",
   "execution_count": 8,
   "metadata": {},
   "outputs": [],
   "source": [
    "# Run this once to create the content recommendation generator\n",
    "R = recommend_generator(all_content)"
   ]
  },
  {
   "cell_type": "code",
   "execution_count": 9,
   "metadata": {
    "scrolled": true
   },
   "outputs": [
    {
     "name": "stdout",
     "output_type": "stream",
     "text": [
      "[389] A font for coders: \"Input\". I have never seen clearer curly brackets! (http://input.fontbureau.com/info/)\n",
      "[158] What’s New In Python 3.7 — Python 3.7.0a0 documentation (https://docs.python.org/3.7/whatsnew/3.7.html)\n",
      "[193] Python made animation. (/r/Python/comments/70nxze/python_made_animation/)\n",
      "[8] OpenJ9 (https://github.com/eclipse/openj9)\n",
      "[105] Python Release Python 2.7.14 (https://www.python.org/downloads/release/python-2714/)\n",
      "[89] California Legislature Sells Out Our Data to ISPs (https://www.eff.org/deeplinks/2017/09/california-legislature-sells-out-our-data-isps)\n",
      "[74] Retro Arcade Racing Game - Programming from Scratch (Quick and Simple C++) (https://www.youtube.com/watch?v=KkMZI5Jbf18)\n",
      "[49] Understanding V8’s Bytecode (https://medium.com/dailyjs/understanding-v8s-bytecode-317d46c94775)\n",
      "[97] Electron: The Bad Parts (https://hackernoon.com/electron-the-bad-parts-2b710c491547)\n",
      "[46] The Ultimate List of Python Podcasts (https://dbader.org/blog/ultimate-list-of-python-podcasts)\n"
     ]
    }
   ],
   "source": [
    "# Every time you run this, you will get fresh content using the generator\n",
    "for _ in range(10):\n",
    "    t = next(R)\n",
    "    print(t)"
   ]
  },
  {
   "cell_type": "code",
   "execution_count": 10,
   "metadata": {
    "scrolled": false
   },
   "outputs": [
    {
     "name": "stdout",
     "output_type": "stream",
     "text": [
      "        | Your Feed\n",
      "———————— — — — —  —  —  —  —\n",
      "@reddit | What’s New In Python 3.7 — Python 3.7.0a0 documentation\n",
      "   158p | https://docs.python.org/3.7/whatsnew/3.7.html\n",
      "———————— — — — —  —  —  —  —\n",
      "@hn     | Finding UX in the Trash\n",
      "    78p | https://f2.svbtle.com/ux-in-the-trash\n",
      "———————— — — — —  —  —  —  —\n",
      "@reddit | Chrome to force .dev domains to HTTPS via preloaded HSTS\n",
      "   170p | https://ma.ttias.be/chrome-force-dev-domains-https-via-preloaded-hsts/\n",
      "———————— — — — —  —  —  —  —\n",
      "@reddit | Python explosion blamed on pandas\n",
      "    42p | https://www.theregister.co.uk/2017/09/14/python_explosion_blamed_on_pandas/\n",
      "———————— — — — —  —  —  —  —\n",
      "@reddit | A font for coders: \"Input\". I have never seen clearer curly brackets!\n",
      "   389p | http://input.fontbureau.com/info/\n",
      "———————— — — — —  —  —  —  —\n",
      "@reddit | Python made animation.\n",
      "   193p | /r/Python/comments/70nxze/python_made_animation/\n",
      "———————— — — — —  —  —  —  —\n",
      "@hn     | Discover the world of microcontrollers through Rust\n",
      "   234p | https://japaric.github.io/discovery/\n",
      "———————— — — — —  —  —  —  —\n",
      "@reddit | Python Release Python 2.7.14\n",
      "   105p | https://www.python.org/downloads/release/python-2714/\n",
      "———————— — — — —  —  —  —  —\n",
      "@hn     | Xanadu\n",
      "    86p | http://xanadu.com/\n",
      "———————— — — — —  —  —  —  —\n",
      "@hn     | The iPhone X’s notch is basically a Kinect\n",
      "   147p | https://www.theverge.com/circuitbreaker/2017/9/17/16315510/iphone-x-notch-kinect-apple-primesense-microsoft\n",
      "———————— — — — —  —  —  —  —\n"
     ]
    }
   ],
   "source": [
    "# Or alternatively, you can get all the content in one go.\n",
    "R = recommend_generator(all_content)\n",
    "feed = list(R)\n",
    "print(\"        | Your Feed\")\n",
    "print(\"———————— — — — —  —  —  —  —\")\n",
    "for t in feed[:10]:\n",
    "    print(\"@{:6} | {}\".format(t.source, t.title))\n",
    "    print(\"{:6}p | {}\".format(t.score, t.url))\n",
    "    print(\"———————— — — — —  —  —  —  —\")"
   ]
  },
  {
   "cell_type": "markdown",
   "metadata": {},
   "source": [
    "## Analyzing articles\n",
    "\n",
    "Now that we have some content to play with, lets analyse it.\n",
    "\n",
    "#### Step 1: Install and import the algorithmia package"
   ]
  },
  {
   "cell_type": "code",
   "execution_count": 11,
   "metadata": {},
   "outputs": [
    {
     "name": "stdout",
     "output_type": "stream",
     "text": [
      "Name: algorithmia\r\n",
      "Version: 1.0.8\r\n",
      "Summary: Algorithmia Python Client\r\n",
      "Home-page: http://github.com/algorithmiaio/algorithmia-python\r\n",
      "Author: Algorithmia\r\n",
      "Author-email: support@algorithmia.com\r\n",
      "License: MIT\r\n",
      "Location: /home/erb/.local/lib/python3.6/site-packages\r\n",
      "Requires: requests, six, enum34\r\n"
     ]
    }
   ],
   "source": [
    "# Install\n",
    "!pip3 show algorithmia || pip3 install --user algorithmia"
   ]
  },
  {
   "cell_type": "code",
   "execution_count": 12,
   "metadata": {},
   "outputs": [],
   "source": [
    "# Import\n",
    "import Algorithmia"
   ]
  },
  {
   "cell_type": "markdown",
   "metadata": {},
   "source": [
    "#### Step 2: Get and setup and API key\n",
    "\n",
    "[Create an account]() on Algorithmia, log in, and put your API key below (it can be found [here](https://algorithmia.com/users/erb#credentials))."
   ]
  },
  {
   "cell_type": "code",
   "execution_count": 13,
   "metadata": {},
   "outputs": [],
   "source": [
    "API_KEY = 'simtICyX1Ng5PD33Bm479NS78Sq1'\n",
    "client = Algorithmia.client(API_KEY)"
   ]
  },
  {
   "cell_type": "markdown",
   "metadata": {},
   "source": [
    "#### Step 3: Analyse it!\n",
    "\n",
    "Now for the *really* cool part.\n",
    "\n",
    "Here are a few useful algos you could do cool stuff with:\n",
    "\n",
    " - https://algorithmia.com/algorithms/nlp/SentimentByTerm\n",
    " - https://algorithmia.com/algorithms/nlp/SummarizeURL\n",
    " - https://algorithmia.com/algorithms/nlp/AutoTag\n",
    " - https://algorithmia.com/algorithms/tags/AutoTagURL\n",
    " - https://algorithmia.com/algorithms/StanfordNLP/NamedEntityRecognition"
   ]
  },
  {
   "cell_type": "code",
   "execution_count": 14,
   "metadata": {
    "scrolled": false
   },
   "outputs": [
    {
     "name": "stdout",
     "output_type": "stream",
     "text": [
      "[(('PERSON', 'Python'), 3),\n",
      " (('PERSON', 'Buffett'), 2),\n",
      " (('ORGANIZATION', 'S&P'), 2),\n",
      " (('LOCATION', 'China'), 2),\n",
      " (('PERSON', 'Isaac'), 2),\n",
      " (('PERSON', 'Newton'), 2),\n",
      " (('LOCATION', 'California'), 2),\n",
      " (('PERSON', 'Larry'), 2),\n",
      " (('PERSON', 'Ellison'), 2),\n",
      " (('ORGANIZATION', 'NBA'), 1)]\n"
     ]
    }
   ],
   "source": [
    "# See which terms tend to appear in the post titles\n",
    "# Note that this doesn't work very well. \n",
    "# Probably because of the weird capitalization used in titles, which the algorithm presumably relies upon.\n",
    "\n",
    "from collections import Counter\n",
    "from pprint import pprint\n",
    "\n",
    "logging.getLogger(\"requests\").setLevel(logging.INFO)\n",
    "\n",
    "\n",
    "# Join all titles together into a sequence of sentences\n",
    "titles = [c.title for c in all_content if c.title]\n",
    "title_corpus = \". \".join(titles)\n",
    "\n",
    "algo = client.algo('StanfordNLP/NamedEntityRecognition/0.2.0')\n",
    "response = algo.pipe({\"document\": title_corpus})\n",
    "\n",
    "c = Counter()\n",
    "for sentence in response.result[\"sentences\"]:\n",
    "    for entity in sentence[\"detectedEntities\"]:\n",
    "        entity_type = entity[\"entity\"]\n",
    "        word = entity[\"word\"]\n",
    "        if entity_type in [\"ORGANIZATION\", \"PERSON\", \"LOCATION\"]:\n",
    "            #print(\"{}: {}\".format(entity_type, word))\n",
    "            c[(entity_type, word)] += 1\n",
    "            \n",
    "pprint(c.most_common(10))"
   ]
  },
  {
   "cell_type": "code",
   "execution_count": 15,
   "metadata": {
    "scrolled": false
   },
   "outputs": [
    {
     "name": "stdout",
     "output_type": "stream",
     "text": [
      "The iPhone X’s notch is basically a Kinect\n",
      "[('primesense', 5), ('based', 2), ('huge', 2), ('intel', 2), ('evidenced', 1)]\n",
      "\n",
      "Discover the world of microcontrollers through Rust\n",
      "[('book', 5), ('embedded', 4), ('digital', 3), ('loop', 2), ('make', 2)]\n",
      "\n",
      "A Prehistory of the Ethereum Protocol\n",
      "[('protocol', 17), ('contract', 16), ('limit', 10), ('transactions', 7), ('gas', 6)]\n",
      "\n",
      "Random Write Considered Harmful in SSDs (2012) [pdf]\n",
      "[('file', 131), ('systems', 57), ('system', 51), ('flash', 37), ('pages', 33)]\n",
      "\n",
      "Here I Stand, at Age 80\n",
      "[('alternative', 1), ('career', 1), ('ideals', 1)]\n",
      "\n"
     ]
    }
   ],
   "source": [
    "for c in all_content[:5]:\n",
    "    algo = client.algo('tags/AutoTagURL/0.1.9')\n",
    "    response = algo.pipe(c.url)\n",
    "    if response.result:\n",
    "        print(c.title)\n",
    "        print(Counter(**response.result).most_common(5))\n",
    "        print()"
   ]
  },
  {
   "cell_type": "code",
   "execution_count": 17,
   "metadata": {
    "scrolled": false
   },
   "outputs": [
    {
     "name": "stdout",
     "output_type": "stream",
     "text": [
      "The iPhone X’s notch is basically a Kinect\n",
      "Summary: Sometimes it's hard to tell exactly how fast technology is moving. But Apple's iPhone X provides a nice little illustration of how sensor and processing technology has evolved in the past decade.\n",
      "\n",
      "Discover the world of microcontrollers through Rust\n",
      "Summary: Discover the world of microcontrollers through Rust. This book is an \"introductory course\" on microcontroller-based \"embedded systems\" that uses Rust as the teaching language rather than the usual C/C++.\n",
      "\n",
      "A Prehistory of the Ethereum Protocol\n",
      "Summary: While we can certainly make more blog posts talking about all of the various ideas Vlad, Gavin, myself and others came up with, and discarded, including “proof of proof of work”, hub-and-spoke chains, “hypercubes”, shadow chains (arguably a precursor to Plasma), chain fibers, and various iterations \n",
      "\n",
      "Random Write Considered Harmful in SSDs (2012) [pdf]\n",
      "Summary: \n",
      "SFS: Random Write Considered Harmful in Solid State Drives\n",
      "Changwoo Mina, Kangnyeon Kimb, Hyunjin Choc, Sang-Won Leed, Young Ik Eome\n",
      "\n",
      "abdeSungkyunkwan University, Korea\n",
      "acSamsung Electronics, Korea\n",
      "\n",
      "{multics69a, kangnunib,wonleed,yieome}@ece.skku.ac.kr, hj1120.choc@samsung.com\n",
      "\n",
      "Abstract\n",
      "\n",
      "Over the l\n",
      "\n",
      "Here I Stand, at Age 80\n",
      "Summary: Loading. Working.\n",
      "\n"
     ]
    }
   ],
   "source": [
    "for c in all_content[:5]:\n",
    "    print(c.title)\n",
    "    algo = client.algo('nlp/SummarizeURL/0.1.4')\n",
    "    response = algo.pipe([c.url, 2])\n",
    "    print(\"Summary:\", response.result[:300])\n",
    "    print()"
   ]
  },
  {
   "cell_type": "code",
   "execution_count": null,
   "metadata": {},
   "outputs": [],
   "source": []
  }
 ],
 "metadata": {
  "kernelspec": {
   "display_name": "Python 3",
   "language": "python",
   "name": "python3"
  },
  "language_info": {
   "codemirror_mode": {
    "name": "ipython",
    "version": 3
   },
   "file_extension": ".py",
   "mimetype": "text/x-python",
   "name": "python",
   "nbconvert_exporter": "python",
   "pygments_lexer": "ipython3",
   "version": "3.6.2"
  }
 },
 "nbformat": 4,
 "nbformat_minor": 2
}
